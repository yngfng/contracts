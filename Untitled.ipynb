{
 "cells": [
  {
   "cell_type": "code",
   "execution_count": 5,
   "metadata": {
    "collapsed": false
   },
   "outputs": [],
   "source": [
    "import deploycontract"
   ]
  },
  {
   "cell_type": "code",
   "execution_count": 6,
   "metadata": {
    "collapsed": true
   },
   "outputs": [],
   "source": [
    "    keyfile = 'accounts/0x18089Cb45906F19889c44c23A86b96062C245865_0xf9d8f69a65a8ede8bb26db426713eec920f73ba1e88e0a5902929c0ed140f198.json'\n",
    "    sourcefile = '../../../contracts/locker/smnlocker/smn_2018-08-22_0x18089Cb45906F19889c44c23A86b96062C245865_Tom.sol'\n"
   ]
  },
  {
   "cell_type": "code",
   "execution_count": 8,
   "metadata": {
    "collapsed": false
   },
   "outputs": [
    {
     "name": "stdout",
     "output_type": "stream",
     "text": [
      "········\n",
      "0x18089Cb45906F19889c44c23A86b96062C245865\n",
      "AttributeDict({'blockHash': HexBytes('0x9a1aa7ce08b50060ffcb5bc5f01e029098474462319b5db351e75a3c8076bf6f'), 'blockNumber': 3934045, 'contractAddress': '0x98aF4257024111a1BAD1822EDbfD4EB353a719e4', 'cumulativeGasUsed': 1603016, 'from': '0x18089cb45906f19889c44c23a86b96062c245865', 'gasUsed': 564040, 'logs': [], 'logsBloom': HexBytes('0x00000000000000000000000000000000000000000000000000000000000000000000000000000000000000000000000000000000000000000000000000000000000000000000000000000000000000000000000000000000000000000000000000000000000000000000000000000000000000000000000000000000000000000000000000000000000000000000000000000000000000000000000000000000000000000000000000000000000000000000000000000000000000000000000000000000000000000000000000000000000000000000000000000000000000000000000000000000000000000000000000000000000000000000000000000000'), 'status': 1, 'to': None, 'transactionHash': HexBytes('0x2baba65d71132b00ef2542bf59a12ba6095b58675a545812f7503c955da273f3'), 'transactionIndex': 3})\n"
     ]
    }
   ],
   "source": [
    "receipt = deploycontract.deployContract(keyfile, sourcefile)"
   ]
  },
  {
   "cell_type": "code",
   "execution_count": 13,
   "metadata": {
    "collapsed": false
   },
   "outputs": [
    {
     "name": "stdout",
     "output_type": "stream",
     "text": [
      "0x98aF4257024111a1BAD1822EDbfD4EB353a719e4\n"
     ]
    }
   ],
   "source": [
    "print(receipt.contractAddress)"
   ]
  },
  {
   "cell_type": "code",
   "execution_count": 16,
   "metadata": {
    "collapsed": false
   },
   "outputs": [
    {
     "data": {
      "text/plain": [
       "<module 'web3' from '/Applications/Anaconda3/anaconda/lib/python3.6/site-packages/web3/__init__.py'>"
      ]
     },
     "execution_count": 16,
     "metadata": {},
     "output_type": "execute_result"
    }
   ],
   "source": [
    "import web3"
   ]
  }
 ],
 "metadata": {
  "kernelspec": {
   "display_name": "Python 3",
   "language": "python",
   "name": "python3"
  },
  "language_info": {
   "codemirror_mode": {
    "name": "ipython",
    "version": 3
   },
   "file_extension": ".py",
   "mimetype": "text/x-python",
   "name": "python",
   "nbconvert_exporter": "python",
   "pygments_lexer": "ipython3",
   "version": "3.6.0"
  }
 },
 "nbformat": 4,
 "nbformat_minor": 2
}
